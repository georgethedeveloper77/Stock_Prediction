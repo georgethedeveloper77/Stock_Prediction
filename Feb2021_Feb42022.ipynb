{
  "nbformat": 4,
  "nbformat_minor": 0,
  "metadata": {
    "colab": {
      "name": "Feb2021-Feb42022",
      "provenance": [],
      "authorship_tag": "ABX9TyNwDmrlHtIwiejpBFm8rbNx",
      "include_colab_link": true
    },
    "kernelspec": {
      "name": "python3",
      "display_name": "Python 3"
    },
    "language_info": {
      "name": "python"
    }
  },
  "cells": [
    {
      "cell_type": "markdown",
      "metadata": {
        "id": "view-in-github",
        "colab_type": "text"
      },
      "source": [
        "<a href=\"https://colab.research.google.com/github/georgethedeveloper77/Stock_Prediction/blob/main/Feb2021_Feb42022.ipynb\" target=\"_parent\"><img src=\"https://colab.research.google.com/assets/colab-badge.svg\" alt=\"Open In Colab\"/></a>"
      ]
    },
    {
      "cell_type": "code",
      "execution_count": null,
      "metadata": {
        "id": "8p57-OhkVWpt"
      },
      "outputs": [],
      "source": [
        "#Description: Predict the future price of the S&P500\n"
      ]
    },
    {
      "cell_type": "code",
      "source": [
        "#Import the libraries \n",
        "import pandas as pd\n",
        "import numpy as np\n",
        "import matplotlib.pyplot as plt\n",
        "from sklearn.linear_model import LinearRegression\n",
        "from sklearn.metrics import r2_score\n",
        "plt.style.use('fivethirtyeight')"
      ],
      "metadata": {
        "id": "ASFCS6JVVuFv"
      },
      "execution_count": 2,
      "outputs": []
    },
    {
      "cell_type": "code",
      "source": [
        "#Load the data\n",
        "from google.colab import files\n",
        "files.upload()"
      ],
      "metadata": {
        "colab": {
          "resources": {
            "http://localhost:8080/nbextensions/google.colab/files.js": {
              "data": "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",
              "ok": true,
              "headers": [
                [
                  "content-type",
                  "application/javascript"
                ]
              ],
              "status": 200,
              "status_text": ""
            }
          },
          "base_uri": "https://localhost:8080/",
          "height": 111
        },
        "id": "YO07EmdrWUKP",
        "outputId": "deef5bee-f029-4048-9ce3-d1ddde931852"
      },
      "execution_count": 3,
      "outputs": [
        {
          "output_type": "display_data",
          "data": {
            "text/html": [
              "\n",
              "     <input type=\"file\" id=\"files-e1e99f1f-1c02-4a61-819f-9027d9515fa2\" name=\"files[]\" multiple disabled\n",
              "        style=\"border:none\" />\n",
              "     <output id=\"result-e1e99f1f-1c02-4a61-819f-9027d9515fa2\">\n",
              "      Upload widget is only available when the cell has been executed in the\n",
              "      current browser session. Please rerun this cell to enable.\n",
              "      </output>\n",
              "      <script src=\"/nbextensions/google.colab/files.js\"></script> "
            ],
            "text/plain": [
              "<IPython.core.display.HTML object>"
            ]
          },
          "metadata": {}
        },
        {
          "output_type": "stream",
          "name": "stdout",
          "text": [
            "Saving Feb2021-Feb42022.csv to Feb2021-Feb42022.csv\n"
          ]
        },
        {
          "output_type": "execute_result",
          "data": {
            "text/plain": [
              "{'Feb2021-Feb42022.csv': b'Date,Close/Last,Volume,Open,High,Low\\r\\n02/04/2022,4500.53,--,4482.79,4539.66,4451.5\\r\\n02/03/2022,4477.44,--,4535.41,4542.88,4470.39\\r\\n02/02/2022,4589.38,--,4566.39,4595.31,4544.32\\r\\n02/01/2022,4546.54,--,4519.57,4550.49,4483.53\\r\\n01/31/2022,4515.55,--,4431.79,4516.89,4414.02\\r\\n01/28/2022,4431.85,--,4336.19,4432.72,4292.46\\r\\n01/27/2022,4326.51,--,4380.58,4428.74,4309.5\\r\\n01/26/2022,4349.93,--,4408.43,4453.23,4304.8\\r\\n01/25/2022,4356.45,--,4366.64,4411.01,4287.11\\r\\n01/24/2022,4410.13,--,4356.32,4417.35,4222.62\\r\\n01/21/2022,4397.94,--,4471.38,4494.52,4395.34\\r\\n01/20/2022,4482.73,--,4547.35,4602.11,4477.95\\r\\n01/19/2022,4532.76,--,4588.03,4611.55,4530.2\\r\\n01/18/2022,4577.11,--,4632.24,4632.24,4568.7\\r\\n01/14/2022,4662.85,--,4637.99,4665.13,4614.75\\r\\n01/13/2022,4659.03,--,4733.56,4744.13,4650.29\\r\\n01/12/2022,4726.35,--,4728.59,4748.83,4706.71\\r\\n01/11/2022,4713.07,--,4669.14,4714.13,4638.27\\r\\n01/10/2022,4670.29,--,4655.34,4673.02,4582.24\\r\\n01/07/2022,4677.03,--,4697.66,4707.95,4662.74\\r\\n01/06/2022,4696.05,--,4693.39,4725.01,4671.26\\r\\n01/05/2022,4700.58,--,4787.99,4797.7,4699.44\\r\\n01/04/2022,4793.54,--,4804.51,4818.62,4774.27\\r\\n01/03/2022,4796.56,--,4778.14,4796.64,4758.17\\r\\n'}"
            ]
          },
          "metadata": {},
          "execution_count": 3
        }
      ]
    },
    {
      "cell_type": "code",
      "source": [
        "#Store the data\n",
        "df = pd.read_csv('Feb2021-Feb42022.csv')\n",
        "#Set the date as the index\n",
        "df = df.set_index(pd.DatetimeIndex(df['Date'].values))\n",
        "#Show the data\n",
        "df"
      ],
      "metadata": {
        "colab": {
          "base_uri": "https://localhost:8080/",
          "height": 801
        },
        "id": "q7-TYHq-WgaN",
        "outputId": "c06fcd60-401e-4863-821e-cea65d1bfd18"
      },
      "execution_count": 7,
      "outputs": [
        {
          "output_type": "execute_result",
          "data": {
            "text/html": [
              "\n",
              "  <div id=\"df-1f833982-4284-4b28-a225-3f90e9021839\">\n",
              "    <div class=\"colab-df-container\">\n",
              "      <div>\n",
              "<style scoped>\n",
              "    .dataframe tbody tr th:only-of-type {\n",
              "        vertical-align: middle;\n",
              "    }\n",
              "\n",
              "    .dataframe tbody tr th {\n",
              "        vertical-align: top;\n",
              "    }\n",
              "\n",
              "    .dataframe thead th {\n",
              "        text-align: right;\n",
              "    }\n",
              "</style>\n",
              "<table border=\"1\" class=\"dataframe\">\n",
              "  <thead>\n",
              "    <tr style=\"text-align: right;\">\n",
              "      <th></th>\n",
              "      <th>Date</th>\n",
              "      <th>Close/Last</th>\n",
              "      <th>Volume</th>\n",
              "      <th>Open</th>\n",
              "      <th>High</th>\n",
              "      <th>Low</th>\n",
              "    </tr>\n",
              "  </thead>\n",
              "  <tbody>\n",
              "    <tr>\n",
              "      <th>2022-02-04</th>\n",
              "      <td>02/04/2022</td>\n",
              "      <td>4500.53</td>\n",
              "      <td>--</td>\n",
              "      <td>4482.79</td>\n",
              "      <td>4539.66</td>\n",
              "      <td>4451.50</td>\n",
              "    </tr>\n",
              "    <tr>\n",
              "      <th>2022-02-03</th>\n",
              "      <td>02/03/2022</td>\n",
              "      <td>4477.44</td>\n",
              "      <td>--</td>\n",
              "      <td>4535.41</td>\n",
              "      <td>4542.88</td>\n",
              "      <td>4470.39</td>\n",
              "    </tr>\n",
              "    <tr>\n",
              "      <th>2022-02-02</th>\n",
              "      <td>02/02/2022</td>\n",
              "      <td>4589.38</td>\n",
              "      <td>--</td>\n",
              "      <td>4566.39</td>\n",
              "      <td>4595.31</td>\n",
              "      <td>4544.32</td>\n",
              "    </tr>\n",
              "    <tr>\n",
              "      <th>2022-02-01</th>\n",
              "      <td>02/01/2022</td>\n",
              "      <td>4546.54</td>\n",
              "      <td>--</td>\n",
              "      <td>4519.57</td>\n",
              "      <td>4550.49</td>\n",
              "      <td>4483.53</td>\n",
              "    </tr>\n",
              "    <tr>\n",
              "      <th>2022-01-31</th>\n",
              "      <td>01/31/2022</td>\n",
              "      <td>4515.55</td>\n",
              "      <td>--</td>\n",
              "      <td>4431.79</td>\n",
              "      <td>4516.89</td>\n",
              "      <td>4414.02</td>\n",
              "    </tr>\n",
              "    <tr>\n",
              "      <th>2022-01-28</th>\n",
              "      <td>01/28/2022</td>\n",
              "      <td>4431.85</td>\n",
              "      <td>--</td>\n",
              "      <td>4336.19</td>\n",
              "      <td>4432.72</td>\n",
              "      <td>4292.46</td>\n",
              "    </tr>\n",
              "    <tr>\n",
              "      <th>2022-01-27</th>\n",
              "      <td>01/27/2022</td>\n",
              "      <td>4326.51</td>\n",
              "      <td>--</td>\n",
              "      <td>4380.58</td>\n",
              "      <td>4428.74</td>\n",
              "      <td>4309.50</td>\n",
              "    </tr>\n",
              "    <tr>\n",
              "      <th>2022-01-26</th>\n",
              "      <td>01/26/2022</td>\n",
              "      <td>4349.93</td>\n",
              "      <td>--</td>\n",
              "      <td>4408.43</td>\n",
              "      <td>4453.23</td>\n",
              "      <td>4304.80</td>\n",
              "    </tr>\n",
              "    <tr>\n",
              "      <th>2022-01-25</th>\n",
              "      <td>01/25/2022</td>\n",
              "      <td>4356.45</td>\n",
              "      <td>--</td>\n",
              "      <td>4366.64</td>\n",
              "      <td>4411.01</td>\n",
              "      <td>4287.11</td>\n",
              "    </tr>\n",
              "    <tr>\n",
              "      <th>2022-01-24</th>\n",
              "      <td>01/24/2022</td>\n",
              "      <td>4410.13</td>\n",
              "      <td>--</td>\n",
              "      <td>4356.32</td>\n",
              "      <td>4417.35</td>\n",
              "      <td>4222.62</td>\n",
              "    </tr>\n",
              "    <tr>\n",
              "      <th>2022-01-21</th>\n",
              "      <td>01/21/2022</td>\n",
              "      <td>4397.94</td>\n",
              "      <td>--</td>\n",
              "      <td>4471.38</td>\n",
              "      <td>4494.52</td>\n",
              "      <td>4395.34</td>\n",
              "    </tr>\n",
              "    <tr>\n",
              "      <th>2022-01-20</th>\n",
              "      <td>01/20/2022</td>\n",
              "      <td>4482.73</td>\n",
              "      <td>--</td>\n",
              "      <td>4547.35</td>\n",
              "      <td>4602.11</td>\n",
              "      <td>4477.95</td>\n",
              "    </tr>\n",
              "    <tr>\n",
              "      <th>2022-01-19</th>\n",
              "      <td>01/19/2022</td>\n",
              "      <td>4532.76</td>\n",
              "      <td>--</td>\n",
              "      <td>4588.03</td>\n",
              "      <td>4611.55</td>\n",
              "      <td>4530.20</td>\n",
              "    </tr>\n",
              "    <tr>\n",
              "      <th>2022-01-18</th>\n",
              "      <td>01/18/2022</td>\n",
              "      <td>4577.11</td>\n",
              "      <td>--</td>\n",
              "      <td>4632.24</td>\n",
              "      <td>4632.24</td>\n",
              "      <td>4568.70</td>\n",
              "    </tr>\n",
              "    <tr>\n",
              "      <th>2022-01-14</th>\n",
              "      <td>01/14/2022</td>\n",
              "      <td>4662.85</td>\n",
              "      <td>--</td>\n",
              "      <td>4637.99</td>\n",
              "      <td>4665.13</td>\n",
              "      <td>4614.75</td>\n",
              "    </tr>\n",
              "    <tr>\n",
              "      <th>2022-01-13</th>\n",
              "      <td>01/13/2022</td>\n",
              "      <td>4659.03</td>\n",
              "      <td>--</td>\n",
              "      <td>4733.56</td>\n",
              "      <td>4744.13</td>\n",
              "      <td>4650.29</td>\n",
              "    </tr>\n",
              "    <tr>\n",
              "      <th>2022-01-12</th>\n",
              "      <td>01/12/2022</td>\n",
              "      <td>4726.35</td>\n",
              "      <td>--</td>\n",
              "      <td>4728.59</td>\n",
              "      <td>4748.83</td>\n",
              "      <td>4706.71</td>\n",
              "    </tr>\n",
              "    <tr>\n",
              "      <th>2022-01-11</th>\n",
              "      <td>01/11/2022</td>\n",
              "      <td>4713.07</td>\n",
              "      <td>--</td>\n",
              "      <td>4669.14</td>\n",
              "      <td>4714.13</td>\n",
              "      <td>4638.27</td>\n",
              "    </tr>\n",
              "    <tr>\n",
              "      <th>2022-01-10</th>\n",
              "      <td>01/10/2022</td>\n",
              "      <td>4670.29</td>\n",
              "      <td>--</td>\n",
              "      <td>4655.34</td>\n",
              "      <td>4673.02</td>\n",
              "      <td>4582.24</td>\n",
              "    </tr>\n",
              "    <tr>\n",
              "      <th>2022-01-07</th>\n",
              "      <td>01/07/2022</td>\n",
              "      <td>4677.03</td>\n",
              "      <td>--</td>\n",
              "      <td>4697.66</td>\n",
              "      <td>4707.95</td>\n",
              "      <td>4662.74</td>\n",
              "    </tr>\n",
              "    <tr>\n",
              "      <th>2022-01-06</th>\n",
              "      <td>01/06/2022</td>\n",
              "      <td>4696.05</td>\n",
              "      <td>--</td>\n",
              "      <td>4693.39</td>\n",
              "      <td>4725.01</td>\n",
              "      <td>4671.26</td>\n",
              "    </tr>\n",
              "    <tr>\n",
              "      <th>2022-01-05</th>\n",
              "      <td>01/05/2022</td>\n",
              "      <td>4700.58</td>\n",
              "      <td>--</td>\n",
              "      <td>4787.99</td>\n",
              "      <td>4797.70</td>\n",
              "      <td>4699.44</td>\n",
              "    </tr>\n",
              "    <tr>\n",
              "      <th>2022-01-04</th>\n",
              "      <td>01/04/2022</td>\n",
              "      <td>4793.54</td>\n",
              "      <td>--</td>\n",
              "      <td>4804.51</td>\n",
              "      <td>4818.62</td>\n",
              "      <td>4774.27</td>\n",
              "    </tr>\n",
              "    <tr>\n",
              "      <th>2022-01-03</th>\n",
              "      <td>01/03/2022</td>\n",
              "      <td>4796.56</td>\n",
              "      <td>--</td>\n",
              "      <td>4778.14</td>\n",
              "      <td>4796.64</td>\n",
              "      <td>4758.17</td>\n",
              "    </tr>\n",
              "  </tbody>\n",
              "</table>\n",
              "</div>\n",
              "      <button class=\"colab-df-convert\" onclick=\"convertToInteractive('df-1f833982-4284-4b28-a225-3f90e9021839')\"\n",
              "              title=\"Convert this dataframe to an interactive table.\"\n",
              "              style=\"display:none;\">\n",
              "        \n",
              "  <svg xmlns=\"http://www.w3.org/2000/svg\" height=\"24px\"viewBox=\"0 0 24 24\"\n",
              "       width=\"24px\">\n",
              "    <path d=\"M0 0h24v24H0V0z\" fill=\"none\"/>\n",
              "    <path d=\"M18.56 5.44l.94 2.06.94-2.06 2.06-.94-2.06-.94-.94-2.06-.94 2.06-2.06.94zm-11 1L8.5 8.5l.94-2.06 2.06-.94-2.06-.94L8.5 2.5l-.94 2.06-2.06.94zm10 10l.94 2.06.94-2.06 2.06-.94-2.06-.94-.94-2.06-.94 2.06-2.06.94z\"/><path d=\"M17.41 7.96l-1.37-1.37c-.4-.4-.92-.59-1.43-.59-.52 0-1.04.2-1.43.59L10.3 9.45l-7.72 7.72c-.78.78-.78 2.05 0 2.83L4 21.41c.39.39.9.59 1.41.59.51 0 1.02-.2 1.41-.59l7.78-7.78 2.81-2.81c.8-.78.8-2.07 0-2.86zM5.41 20L4 18.59l7.72-7.72 1.47 1.35L5.41 20z\"/>\n",
              "  </svg>\n",
              "      </button>\n",
              "      \n",
              "  <style>\n",
              "    .colab-df-container {\n",
              "      display:flex;\n",
              "      flex-wrap:wrap;\n",
              "      gap: 12px;\n",
              "    }\n",
              "\n",
              "    .colab-df-convert {\n",
              "      background-color: #E8F0FE;\n",
              "      border: none;\n",
              "      border-radius: 50%;\n",
              "      cursor: pointer;\n",
              "      display: none;\n",
              "      fill: #1967D2;\n",
              "      height: 32px;\n",
              "      padding: 0 0 0 0;\n",
              "      width: 32px;\n",
              "    }\n",
              "\n",
              "    .colab-df-convert:hover {\n",
              "      background-color: #E2EBFA;\n",
              "      box-shadow: 0px 1px 2px rgba(60, 64, 67, 0.3), 0px 1px 3px 1px rgba(60, 64, 67, 0.15);\n",
              "      fill: #174EA6;\n",
              "    }\n",
              "\n",
              "    [theme=dark] .colab-df-convert {\n",
              "      background-color: #3B4455;\n",
              "      fill: #D2E3FC;\n",
              "    }\n",
              "\n",
              "    [theme=dark] .colab-df-convert:hover {\n",
              "      background-color: #434B5C;\n",
              "      box-shadow: 0px 1px 3px 1px rgba(0, 0, 0, 0.15);\n",
              "      filter: drop-shadow(0px 1px 2px rgba(0, 0, 0, 0.3));\n",
              "      fill: #FFFFFF;\n",
              "    }\n",
              "  </style>\n",
              "\n",
              "      <script>\n",
              "        const buttonEl =\n",
              "          document.querySelector('#df-1f833982-4284-4b28-a225-3f90e9021839 button.colab-df-convert');\n",
              "        buttonEl.style.display =\n",
              "          google.colab.kernel.accessAllowed ? 'block' : 'none';\n",
              "\n",
              "        async function convertToInteractive(key) {\n",
              "          const element = document.querySelector('#df-1f833982-4284-4b28-a225-3f90e9021839');\n",
              "          const dataTable =\n",
              "            await google.colab.kernel.invokeFunction('convertToInteractive',\n",
              "                                                     [key], {});\n",
              "          if (!dataTable) return;\n",
              "\n",
              "          const docLinkHtml = 'Like what you see? Visit the ' +\n",
              "            '<a target=\"_blank\" href=https://colab.research.google.com/notebooks/data_table.ipynb>data table notebook</a>'\n",
              "            + ' to learn more about interactive tables.';\n",
              "          element.innerHTML = '';\n",
              "          dataTable['output_type'] = 'display_data';\n",
              "          await google.colab.output.renderOutput(dataTable, element);\n",
              "          const docLink = document.createElement('div');\n",
              "          docLink.innerHTML = docLinkHtml;\n",
              "          element.appendChild(docLink);\n",
              "        }\n",
              "      </script>\n",
              "    </div>\n",
              "  </div>\n",
              "  "
            ],
            "text/plain": [
              "                  Date  Close/Last Volume     Open     High      Low\n",
              "2022-02-04  02/04/2022     4500.53     --  4482.79  4539.66  4451.50\n",
              "2022-02-03  02/03/2022     4477.44     --  4535.41  4542.88  4470.39\n",
              "2022-02-02  02/02/2022     4589.38     --  4566.39  4595.31  4544.32\n",
              "2022-02-01  02/01/2022     4546.54     --  4519.57  4550.49  4483.53\n",
              "2022-01-31  01/31/2022     4515.55     --  4431.79  4516.89  4414.02\n",
              "2022-01-28  01/28/2022     4431.85     --  4336.19  4432.72  4292.46\n",
              "2022-01-27  01/27/2022     4326.51     --  4380.58  4428.74  4309.50\n",
              "2022-01-26  01/26/2022     4349.93     --  4408.43  4453.23  4304.80\n",
              "2022-01-25  01/25/2022     4356.45     --  4366.64  4411.01  4287.11\n",
              "2022-01-24  01/24/2022     4410.13     --  4356.32  4417.35  4222.62\n",
              "2022-01-21  01/21/2022     4397.94     --  4471.38  4494.52  4395.34\n",
              "2022-01-20  01/20/2022     4482.73     --  4547.35  4602.11  4477.95\n",
              "2022-01-19  01/19/2022     4532.76     --  4588.03  4611.55  4530.20\n",
              "2022-01-18  01/18/2022     4577.11     --  4632.24  4632.24  4568.70\n",
              "2022-01-14  01/14/2022     4662.85     --  4637.99  4665.13  4614.75\n",
              "2022-01-13  01/13/2022     4659.03     --  4733.56  4744.13  4650.29\n",
              "2022-01-12  01/12/2022     4726.35     --  4728.59  4748.83  4706.71\n",
              "2022-01-11  01/11/2022     4713.07     --  4669.14  4714.13  4638.27\n",
              "2022-01-10  01/10/2022     4670.29     --  4655.34  4673.02  4582.24\n",
              "2022-01-07  01/07/2022     4677.03     --  4697.66  4707.95  4662.74\n",
              "2022-01-06  01/06/2022     4696.05     --  4693.39  4725.01  4671.26\n",
              "2022-01-05  01/05/2022     4700.58     --  4787.99  4797.70  4699.44\n",
              "2022-01-04  01/04/2022     4793.54     --  4804.51  4818.62  4774.27\n",
              "2022-01-03  01/03/2022     4796.56     --  4778.14  4796.64  4758.17"
            ]
          },
          "metadata": {},
          "execution_count": 7
        }
      ]
    },
    {
      "cell_type": "code",
      "source": [
        "#Plot the Linear Regression Line and the Close Price\n",
        "df3 = df.copy()\n",
        "#Create a new Column Called 'Numbers'  that ranges from 0  to lenth of data set\n",
        "df3['Numbers'] = list(range(0, len(df3)))\n",
        "#Stroe the 'Numbers' Column into a varible called 'X' as an array\n",
        "X = np.array(df3[['Numbers']])\n",
        "#Store the Clsoe Price as an array in a varible called 'y'\n",
        "y = df3['Close/Last'].values\n",
        "#Create and Train the model\n",
        "lin_model = LinearRegression().fit(X,y)\n",
        "print('Intercept:', lin_model.intercept_)\n",
        "print('Slope:', lin_model.coef_)\n"
      ],
      "metadata": {
        "colab": {
          "base_uri": "https://localhost:8080/"
        },
        "id": "BSbdMV0mW1sp",
        "outputId": "8688df49-db1c-4ff7-d5fc-d8b5f35b14e9"
      },
      "execution_count": 9,
      "outputs": [
        {
          "output_type": "stream",
          "name": "stdout",
          "text": [
            "Intercept: 4390.096733333334\n",
            "Slope: [15.3184]\n"
          ]
        }
      ]
    },
    {
      "cell_type": "code",
      "source": [
        "#Prepare the data for Visualization\n",
        "#GEt the PRedicted prices from the model and store them into a varible called 'y_pred'\n",
        "y_pred = lin_model.coef_ * X + lin_model.intercept_ # y = mx +b\n",
        "# Store the predicted values in a new column callled 'Pred'\n",
        "df3['Pred'] = y_pred\n",
        "#Plot the data\n",
        "df3['Pred'].plot()\n",
        "df3['Close/Last'].plot()\n",
        "plt.title('Close the Price History')"
      ],
      "metadata": {
        "colab": {
          "base_uri": "https://localhost:8080/",
          "height": 322
        },
        "id": "x589yRQyZEAr",
        "outputId": "4b70227a-2162-48ad-ffb1-eafa2871cc71"
      },
      "execution_count": 12,
      "outputs": [
        {
          "output_type": "execute_result",
          "data": {
            "text/plain": [
              "Text(0.5, 1.0, 'Close the Price History')"
            ]
          },
          "metadata": {},
          "execution_count": 12
        },
        {
          "output_type": "display_data",
          "data": {
            "image/png": "[encoded data removed]",
            "text/plain": [
              "<Figure size 432x288 with 1 Axes>"
            ]
          },
          "metadata": {}
        }
      ]
    },
    {
      "cell_type": "code",
      "source": [
        "# How Good is the model ?\n",
        "r2_score(df3['Close/Last'], df3['Pred'])"
      ],
      "metadata": {
        "colab": {
          "base_uri": "https://localhost:8080/"
        },
        "id": "SDxfup51aKD8",
        "outputId": "47201ac3-2127-4379-ec8f-5bcd84ac3cef"
      },
      "execution_count": 13,
      "outputs": [
        {
          "output_type": "execute_result",
          "data": {
            "text/plain": [
              "0.5731926953303994"
            ]
          },
          "metadata": {},
          "execution_count": 13
        }
      ]
    },
    {
      "cell_type": "code",
      "source": [
        "#Show the possible price for next day based on the model\n",
        "lin_model.coef_ * len(df3)+1 + lin_model.intercept_"
      ],
      "metadata": {
        "colab": {
          "base_uri": "https://localhost:8080/"
        },
        "id": "8ZqqfTOaaiaA",
        "outputId": "a1a7bd13-25ba-4814-d7ce-142c301d095b"
      },
      "execution_count": 16,
      "outputs": [
        {
          "output_type": "execute_result",
          "data": {
            "text/plain": [
              "array([4758.73833333])"
            ]
          },
          "metadata": {},
          "execution_count": 16
        }
      ]
    }
  ]
}